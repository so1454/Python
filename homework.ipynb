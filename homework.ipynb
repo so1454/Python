{
 "cells": [
  {
   "cell_type": "markdown",
   "id": "4761da16",
   "metadata": {},
   "source": [
    "## homework"
   ]
  },
  {
   "cell_type": "code",
   "execution_count": 12,
   "id": "fbfa2ae5",
   "metadata": {},
   "outputs": [
    {
     "name": "stdout",
     "output_type": "stream",
     "text": [
      "정수 입력 >> 32\n",
      "32의 약수 : \n",
      "1 2 4 8 16 32 "
     ]
    }
   ],
   "source": [
    "#for문 예제\n",
    "num = int(input(\"정수 입력 >> \"))\n",
    "\n",
    "print(f\"{num}의 약수 : \")\n",
    "for i in range(1,num+1) :\n",
    "    if (num % i) == 0 : \n",
<<<<<<< HEAD
    "        print(f\"{i}\", end =\" \")"
=======
    "        print(f\"{i}\", end =\" \")\n"
>>>>>>> e84fad71f924e9e877855f12ecf869d2826a300b
   ]
  },
  {
   "cell_type": "code",
   "execution_count": 15,
   "id": "9dda28e2",
   "metadata": {},
   "outputs": [
    {
     "name": "stdout",
     "output_type": "stream",
     "text": [
      "첫 번째 정수 입력 >> 10\n",
      "두 번째 정수 입력 >> 30\n",
      "10 11 12 13 14 15 16 17 18 19 20 21 22 23 24 25 26 27 28 29 30 "
     ]
    }
   ],
   "source": [
    "num1 = int(input(\"첫 번째 정수 입력 >> \"))\n",
    "num2 = int(input(\"두 번째 정수 입력 >> \"))\n",
    "\n",
    "for i in range(num1,num2+1) :\n",
    "    print(f\"{i}\",end = \" \")"
   ]
  },
  {
   "cell_type": "code",
   "execution_count": 17,
   "id": "43f06cf6",
   "metadata": {},
   "outputs": [
    {
     "name": "stdout",
     "output_type": "stream",
     "text": [
      "첫 번째 정수 입력 >> 10\n",
      "두 번째 정수 입력 >> 20\n",
      "배수 입력 >> 2\n",
      "2의 배수의 합 : 90 \n"
     ]
    }
   ],
   "source": [
    "num1 = int(input(\"첫 번째 정수 입력 >> \"))\n",
    "num2 = int(input(\"두 번째 정수 입력 >> \"))\n",
    "sum = 0\n",
    "\n",
    "bae = int(input(\"배수 입력 >> \"))\n",
    "\n",
    "for i in range(num1 , num2 +1) :\n",
    "    if i % bae ==0 :\n",
    "        sum += i\n",
    "\n",
    "print(f\"{bae}의 배수의 합 : {sum} \")"
   ]
  },
  {
   "cell_type": "code",
   "execution_count": 28,
   "id": "366fe72f",
   "metadata": {},
   "outputs": [
    {
     "name": "stdout",
     "output_type": "stream",
     "text": [
      "이름을 입력  >> 구소현\n",
      "주민번호 입력(7자리) >> 9805192\n",
      "구소현님은 98년 05월19일에 태어났고, 성별은 여자입니다.\n"
     ]
    }
   ],
   "source": [
    "name = input(\"이름을 입력  >> \")\n",
    "num = input(\"주민번호 입력(7자리) >> \")  #98 05 19 \n",
    "gender = \"\"\n",
    "\n",
    "if num[-1] == 1 :\n",
    "    gender = \"남자\"\n",
    "else :\n",
    "    gender = \"여자\"\n",
    "\n",
    "print(f\"{name}님은 {num[0:2]}년 {num[2:4]}월 {num[4:6]}일에 태어났고, 성별은 {gender}입니다.\")"
   ]
  },
  {
   "cell_type": "code",
<<<<<<< HEAD
   "execution_count": 2,
=======
   "execution_count": 49,
>>>>>>> e84fad71f924e9e877855f12ecf869d2826a300b
   "id": "e36fb1e7",
   "metadata": {},
   "outputs": [
    {
     "data": {
      "text/plain": [
       "'Life is too short,You need python.'"
      ]
     },
<<<<<<< HEAD
     "execution_count": 2,
=======
     "execution_count": 49,
>>>>>>> e84fad71f924e9e877855f12ecf869d2826a300b
     "metadata": {},
     "output_type": "execute_result"
    }
   ],
   "source": [
    "s = \".nohtyp deen uoY,trohs oot si efiL\"\n",
    "\n",
    "s[::-1]"
   ]
  },
  {
   "cell_type": "code",
<<<<<<< HEAD
   "execution_count": 5,
=======
   "execution_count": 55,
>>>>>>> e84fad71f924e9e877855f12ecf869d2826a300b
   "id": "829e242d",
   "metadata": {},
   "outputs": [
    {
     "name": "stdout",
     "output_type": "stream",
     "text": [
<<<<<<< HEAD
      "Life is too short,You need python."
=======
      "['L', 'i', 'f', 'e', ' ', 'i', 's', ' ', 't', 'o', 'o', ' ', 's', 'h', 'o', 'r', 't', ',', 'Y', 'o', 'u', ' ', 'n', 'e', 'e', 'd', ' ', 'p', 'y', 't', 'h', 'o', 'n', '.']\n"
>>>>>>> e84fad71f924e9e877855f12ecf869d2826a300b
     ]
    }
   ],
   "source": [
<<<<<<< HEAD
    "for i in range(len(s)-1,-1,-1) :  \n",
    "            # s라는 리스트의 전체 길이에서 -1 해주고 -1 까지 거꾸로 -1씩 해서 범위를 지정해줌\n",
    "    print(s[i],end=\"\")\n",
    "    "
=======
    "l = list(s)\n",
    "a = []\n",
    "\n",
    "for i in range(len(l)-1,-1,-1) :\n",
    "    a.append(s[i])\n",
    "    \n",
    "print(a)"
>>>>>>> e84fad71f924e9e877855f12ecf869d2826a300b
   ]
  },
  {
   "cell_type": "code",
   "execution_count": 40,
   "id": "57da0c31",
   "metadata": {},
   "outputs": [
    {
     "name": "stdout",
     "output_type": "stream",
     "text": [
      "짝수 2개, 홀수 7개\n"
     ]
    }
   ],
   "source": [
    "list1 = [1,30,7,9,17,3,5,23,44]\n",
    "odd = 0\n",
    "even = 0\n",
    "\n",
    "for i in list1 :\n",
    "    if i % 2 == 0 :\n",
    "        even += 1\n",
    "    elif i % 2 == 1 :\n",
    "        odd +=1\n",
    "    \n",
    "print(f\"짝수 {even}개, 홀수 {odd}개\")"
   ]
  },
  {
   "cell_type": "code",
   "execution_count": null,
   "id": "8c0616f1",
   "metadata": {},
   "outputs": [],
   "source": []
  },
  {
   "cell_type": "code",
   "execution_count": null,
   "id": "6f17d546",
   "metadata": {},
   "outputs": [],
   "source": []
  },
  {
   "cell_type": "code",
   "execution_count": null,
   "id": "c4bfff80",
   "metadata": {},
   "outputs": [],
   "source": []
  },
  {
   "cell_type": "code",
   "execution_count": null,
   "id": "c993d2f2",
   "metadata": {},
   "outputs": [],
   "source": []
  },
  {
   "cell_type": "code",
   "execution_count": null,
   "id": "1c14607d",
   "metadata": {},
   "outputs": [],
   "source": []
  }
 ],
 "metadata": {
  "kernelspec": {
   "display_name": "Python 3 (ipykernel)",
   "language": "python",
   "name": "python3"
  },
  "language_info": {
   "codemirror_mode": {
    "name": "ipython",
    "version": 3
   },
   "file_extension": ".py",
   "mimetype": "text/x-python",
   "name": "python",
   "nbconvert_exporter": "python",
   "pygments_lexer": "ipython3",
   "version": "3.9.13"
  }
 },
 "nbformat": 4,
 "nbformat_minor": 5
}
