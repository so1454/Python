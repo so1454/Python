{
 "cells": [
  {
   "cell_type": "markdown",
   "id": "a758bd1d",
   "metadata": {},
   "source": [
    "list 대괄호 tuple 소괄호\n",
    "\n",
    "### ditionary 중괄호\n",
    "딕셔너리 명 = { key : value, key : value , ....}\n"
   ]
  },
  {
   "cell_type": "code",
   "execution_count": 2,
   "id": "f4fd8bb1",
   "metadata": {},
   "outputs": [
    {
     "data": {
      "text/plain": [
       "{'name': 'SH', 'age': 26, 'phone': '010-9348-7625'}"
      ]
     },
     "execution_count": 2,
     "metadata": {},
     "output_type": "execute_result"
    }
   ],
   "source": [
    "dic1 ={\"name\" : \"SH\", \n",
    "       \"age\" : 26, \n",
    "       \"phone\" : \"010-9348-7625\"}\n",
    "dic1"
   ]
  },
  {
   "cell_type": "code",
   "execution_count": 3,
   "id": "3e7dd7d0",
   "metadata": {},
   "outputs": [
    {
     "name": "stdout",
     "output_type": "stream",
     "text": [
      "<class 'dict'>\n"
     ]
    }
   ],
   "source": [
    "print(type(dic1))"
   ]
  },
  {
   "cell_type": "code",
   "execution_count": 6,
   "id": "279bb784",
   "metadata": {},
   "outputs": [
    {
     "name": "stdout",
     "output_type": "stream",
     "text": [
      "{'name': 'SH', 'age': 26, 'phone': '010-9348-7625', 'birth': '05/19'}\n"
     ]
    }
   ],
   "source": [
    "# 딕셔너리 값 추가하기\n",
    "dic1['birth'] = \"05/19\"\n",
    "dic1"
   ]
  },
  {
   "cell_type": "code",
   "execution_count": 8,
   "id": "9e136d35",
   "metadata": {},
   "outputs": [],
   "source": [
    "# 딕셔너리 값 수정하기\n",
    "dic1 ['age'] = 20"
   ]
  },
  {
   "cell_type": "code",
   "execution_count": 9,
   "id": "1d397ecc",
   "metadata": {},
   "outputs": [
    {
     "data": {
      "text/plain": [
       "{'name': 'SH', 'age': 20, 'phone': '010-9348-7625', 'birth': '05/19'}"
      ]
     },
     "execution_count": 9,
     "metadata": {},
     "output_type": "execute_result"
    }
   ],
   "source": [
    "dic1"
   ]
  },
  {
   "cell_type": "code",
   "execution_count": 11,
   "id": "6586cd79",
   "metadata": {},
   "outputs": [
    {
     "data": {
      "text/plain": [
       "{'노래 제목': '라일락'}"
      ]
     },
     "execution_count": 11,
     "metadata": {},
     "output_type": "execute_result"
    }
   ],
   "source": [
    "#실습 \n",
    "dic_test = {\"노래 제목\" : \"라일락\"}\n",
    "dic_test"
   ]
  },
  {
   "cell_type": "code",
   "execution_count": 13,
   "id": "db35b1f5",
   "metadata": {},
   "outputs": [
    {
     "data": {
      "text/plain": [
       "{'노래 제목': '라일락', '가수': '아이유', '날짜': '2021.03.26'}"
      ]
     },
     "execution_count": 13,
     "metadata": {},
     "output_type": "execute_result"
    }
   ],
   "source": [
    "#추가\n",
    "dic_test['가수'] = \"아이유\"\n",
    "dic_test['날짜'] = \"2021.03.26\"\n",
    "\n",
    "dic_test"
   ]
  },
  {
   "cell_type": "code",
   "execution_count": 14,
   "id": "63ea0584",
   "metadata": {},
   "outputs": [
    {
     "data": {
      "text/plain": [
       "{'name': 'SH', 'phone': '010-9348-7625', 'birth': '05/19'}"
      ]
     },
     "execution_count": 14,
     "metadata": {},
     "output_type": "execute_result"
    }
   ],
   "source": [
    "# 삭제!\n",
    "del dic1['age']\n",
    "dic1"
   ]
  },
  {
   "cell_type": "code",
   "execution_count": 16,
   "id": "a072c234",
   "metadata": {},
   "outputs": [
    {
     "data": {
      "text/plain": [
       "'SH'"
      ]
     },
     "execution_count": 16,
     "metadata": {},
     "output_type": "execute_result"
    }
   ],
   "source": [
    "# 딕셔너리 값을 가져와보기\n",
    "dic1['name']"
   ]
  },
  {
   "cell_type": "code",
   "execution_count": 17,
   "id": "9bc1f1ef",
   "metadata": {},
   "outputs": [
    {
     "data": {
      "text/plain": [
       "'SH'"
      ]
     },
     "execution_count": 17,
     "metadata": {},
     "output_type": "execute_result"
    }
   ],
   "source": [
    "# 딕셔너리 값을 가져와보기(2) \n",
    "dic1.get('name')\n"
   ]
  },
  {
   "cell_type": "code",
   "execution_count": 18,
   "id": "28c1b335",
   "metadata": {},
   "outputs": [
    {
     "ename": "KeyError",
     "evalue": "'gender'",
     "output_type": "error",
     "traceback": [
      "\u001b[1;31m---------------------------------------------------------------------------\u001b[0m",
      "\u001b[1;31mKeyError\u001b[0m                                  Traceback (most recent call last)",
      "\u001b[1;32m~\\AppData\\Local\\Temp\\ipykernel_18420\\3708980412.py\u001b[0m in \u001b[0;36m<module>\u001b[1;34m\u001b[0m\n\u001b[1;32m----> 1\u001b[1;33m \u001b[0mgender\u001b[0m \u001b[1;33m=\u001b[0m \u001b[0mdic1\u001b[0m\u001b[1;33m[\u001b[0m\u001b[1;34m'gender'\u001b[0m\u001b[1;33m]\u001b[0m\u001b[1;33m\u001b[0m\u001b[1;33m\u001b[0m\u001b[0m\n\u001b[0m\u001b[0;32m      2\u001b[0m \u001b[0mprint\u001b[0m\u001b[1;33m(\u001b[0m\u001b[0mgender\u001b[0m\u001b[1;33m)\u001b[0m\u001b[1;33m\u001b[0m\u001b[1;33m\u001b[0m\u001b[0m\n",
      "\u001b[1;31mKeyError\u001b[0m: 'gender'"
     ]
    }
   ],
   "source": [
    "#그냥 이걸로하면 에러뜸\n",
    "gender = dic1['gender']  #젠더라는 키값을 가진 친구가 없으면 keyError가 뜸\n",
    "print(gender)"
   ]
  },
  {
   "cell_type": "code",
   "execution_count": 20,
   "id": "8bc32ae6",
   "metadata": {},
   "outputs": [
    {
     "name": "stdout",
     "output_type": "stream",
     "text": [
      "None\n"
     ]
    }
   ],
   "source": [
    "#근데 이걸로 하면 에러안뜸\n",
    "gender = dic1.get('gender')  # 이건 예외처리할때 유용하게 쓰임(에러안뜸)\n",
    "print(gender)"
   ]
  },
  {
   "cell_type": "code",
   "execution_count": 22,
   "id": "71c756c1",
   "metadata": {},
   "outputs": [
    {
     "data": {
      "text/plain": [
       "dict_keys(['name', 'phone', 'birth'])"
      ]
     },
     "execution_count": 22,
     "metadata": {},
     "output_type": "execute_result"
    }
   ],
   "source": [
    "# 딕셔너리 키값(key)만 가져오기\n",
    "dic1.keys()"
   ]
  },
  {
   "cell_type": "code",
   "execution_count": 23,
   "id": "14d252ae",
   "metadata": {},
   "outputs": [
    {
     "data": {
      "text/plain": [
       "dict_values(['SH', '010-9348-7625', '05/19'])"
      ]
     },
     "execution_count": 23,
     "metadata": {},
     "output_type": "execute_result"
    }
   ],
   "source": [
    "# 딕셔너리 밸류값(vlue)만 가져오기\n",
    "dic1.values()"
   ]
  },
  {
   "cell_type": "code",
   "execution_count": 24,
   "id": "32e7f1cc",
   "metadata": {},
   "outputs": [
    {
     "name": "stdout",
     "output_type": "stream",
     "text": [
      "name\n",
      "phone\n",
      "birth\n"
     ]
    }
   ],
   "source": [
    "# 딕셔너리 for문 활용\n",
    "for key in dic1.keys() :  #dic1에 있는 key값들을 하나하나 꺼내줄꺼야!\n",
    "    print(key)"
   ]
  },
  {
   "cell_type": "code",
   "execution_count": 25,
   "id": "c2ee6706",
   "metadata": {},
   "outputs": [
    {
     "name": "stdout",
     "output_type": "stream",
     "text": [
      "SH\n",
      "010-9348-7625\n",
      "05/19\n"
     ]
    }
   ],
   "source": [
    "for value in dic1.values() :  #dic1에 있는 value값들을 하나하나 꺼내줄꺼야!\n",
    "    print(value)"
   ]
  },
  {
   "cell_type": "code",
   "execution_count": 28,
   "id": "d9a6f69c",
   "metadata": {},
   "outputs": [
    {
     "name": "stdout",
     "output_type": "stream",
     "text": [
      "name \t SH\n",
      "phone \t 010-9348-7625\n",
      "birth \t 05/19\n"
     ]
    }
   ],
   "source": [
    "for key, value in dic1.items() :\n",
    "    print(key,\"\\t\",value)"
   ]
  },
  {
   "cell_type": "code",
   "execution_count": 29,
   "id": "ba46c0e7",
   "metadata": {},
   "outputs": [
    {
     "data": {
      "text/plain": [
       "dict_items([('name', 'SH'), ('phone', '010-9348-7625'), ('birth', '05/19')])"
      ]
     },
     "execution_count": 29,
     "metadata": {},
     "output_type": "execute_result"
    }
   ],
   "source": [
    "dic1.items()   #튜플로 묶여있음"
   ]
  },
  {
   "cell_type": "code",
   "execution_count": 30,
   "id": "1707d201",
   "metadata": {},
   "outputs": [
    {
     "data": {
      "text/plain": [
       "True"
      ]
     },
     "execution_count": 30,
     "metadata": {},
     "output_type": "execute_result"
    }
   ],
   "source": [
    "# in은 딕셔너리에서 key값에 한해서만 동작한다.\n",
    "\n",
    "'name' in dic1  # 안에 있는지 없는지 확인해주는 역할(True/False)"
   ]
  },
  {
   "cell_type": "code",
   "execution_count": 31,
   "id": "affd6471",
   "metadata": {},
   "outputs": [
    {
     "data": {
      "text/plain": [
       "False"
      ]
     },
     "execution_count": 31,
     "metadata": {},
     "output_type": "execute_result"
    }
   ],
   "source": [
    "'KN' in dic1"
   ]
  },
  {
   "cell_type": "code",
   "execution_count": 32,
   "id": "7ecb23bd",
   "metadata": {},
   "outputs": [],
   "source": [
    "# 딕셔너리 모두 지우기\n",
    "dic1.clear()"
   ]
  },
  {
   "cell_type": "code",
   "execution_count": 33,
   "id": "1f5a2692",
   "metadata": {},
   "outputs": [
    {
     "data": {
      "text/plain": [
       "{}"
      ]
     },
     "execution_count": 33,
     "metadata": {},
     "output_type": "execute_result"
    }
   ],
   "source": [
    "dic1"
   ]
  },
  {
   "cell_type": "code",
   "execution_count": null,
   "id": "a27840a6",
   "metadata": {},
   "outputs": [],
   "source": []
  },
  {
   "cell_type": "code",
   "execution_count": null,
   "id": "d8eb61e7",
   "metadata": {},
   "outputs": [],
   "source": []
  },
  {
   "cell_type": "code",
   "execution_count": null,
   "id": "2699d4e7",
   "metadata": {},
   "outputs": [],
   "source": []
  },
  {
   "cell_type": "code",
   "execution_count": null,
   "id": "1ec9ceba",
   "metadata": {},
   "outputs": [],
   "source": []
  },
  {
   "cell_type": "code",
   "execution_count": null,
   "id": "8525ec46",
   "metadata": {},
   "outputs": [],
   "source": []
  }
 ],
 "metadata": {
  "kernelspec": {
   "display_name": "Python 3 (ipykernel)",
   "language": "python",
   "name": "python3"
  },
  "language_info": {
   "codemirror_mode": {
    "name": "ipython",
    "version": 3
   },
   "file_extension": ".py",
   "mimetype": "text/x-python",
   "name": "python",
   "nbconvert_exporter": "python",
   "pygments_lexer": "ipython3",
   "version": "3.9.13"
  }
 },
 "nbformat": 4,
 "nbformat_minor": 5
}
