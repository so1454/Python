{
 "cells": [
  {
   "cell_type": "markdown",
   "id": "010ede91",
   "metadata": {},
   "source": [
    "### 연산자"
   ]
  },
  {
   "cell_type": "code",
   "execution_count": 33,
   "id": "d542c176",
   "metadata": {},
   "outputs": [
    {
     "data": {
      "text/plain": [
       "5"
      ]
     },
     "execution_count": 33,
     "metadata": {},
     "output_type": "execute_result"
    }
   ],
   "source": [
    "10//2"
   ]
  },
  {
   "cell_type": "code",
   "execution_count": 34,
   "id": "cde43b59",
   "metadata": {},
   "outputs": [
    {
     "name": "stdout",
     "output_type": "stream",
     "text": [
      "1.4285714285714286\n",
      "3\n",
      "1\n"
     ]
    }
   ],
   "source": [
    "num1 = 10\n",
    "num2 = 7\n",
    "\n",
    "print(num1/num2)\n",
    "print(num1%num2)\n",
    "print(num1//num2)"
   ]
  },
  {
   "cell_type": "code",
   "execution_count": 35,
   "id": "b972d2f9",
   "metadata": {},
   "outputs": [
    {
     "name": "stdout",
     "output_type": "stream",
     "text": [
      "안녕하세요\n"
     ]
    }
   ],
   "source": [
    "str1 = \"안녕\"\n",
    "str2 = \"하세요\"\n",
    "\n",
    "print(str1 + str2)"
   ]
  },
  {
   "cell_type": "code",
   "execution_count": 40,
   "id": "2c7039b2",
   "metadata": {},
   "outputs": [
    {
     "name": "stdout",
     "output_type": "stream",
     "text": [
      "17\n"
     ]
    }
   ],
   "source": [
    "str1 = \"10\"\n",
    "str2 = \"7\"\n",
    "\n",
    "# 위 처럼 그냥은 안되니까 해결하기 위해서 형변환이 필요함\n",
    "\n",
    "str1 = int(\"10\")\n",
    "str2 = int(\"7\")\n",
    "\n",
    "print(str1 + str2)"
   ]
  },
  {
   "cell_type": "code",
   "execution_count": 39,
   "id": "f4e393bf",
   "metadata": {
    "scrolled": true
   },
   "outputs": [
    {
     "name": "stdout",
     "output_type": "stream",
     "text": [
      "17\n"
     ]
    }
   ],
   "source": [
    "num1 = 10\n",
    "str2 = int(\"7\")\n",
    "\n",
    "print(num1 + str2)"
   ]
  },
  {
   "cell_type": "code",
   "execution_count": 51,
   "id": "caf7dab9",
   "metadata": {},
   "outputs": [
    {
     "name": "stdout",
     "output_type": "stream",
     "text": [
      "더하기 결과 : 26\n",
      "빼기 결과 : 20\n",
      "곱하기 결과 : 69\n",
      "나누기 결과 : 7.666666666666667\n"
     ]
    }
   ],
   "source": [
    "num1 = 23\n",
    "num2 = 3\n",
    "s = num1 / num2\n",
    "\n",
    "print(\"더하기 결과 : %d\"%(num1 + num2))\n",
    "print(\"빼기 결과 : %d\"%(num1 - num2))\n",
    "print(\"곱하기 결과 : %d\"%(num1 * num2))\n",
    "print(f\"나누기 결과 : {s}\")\n"
   ]
  },
  {
   "cell_type": "code",
   "execution_count": 58,
   "id": "e6333ff0",
   "metadata": {},
   "outputs": [
    {
     "name": "stdout",
     "output_type": "stream",
     "text": [
      "정수를 입력하세요>>5\n"
     ]
    },
    {
     "data": {
      "text/plain": [
       "'5'"
      ]
     },
     "execution_count": 58,
     "metadata": {},
     "output_type": "execute_result"
    }
   ],
   "source": [
    "# 입력문 : input()\n",
    "# input문은 받은 값을 문자형으로 저장한다 ! -> 정수나 실수를 사용하기 위해선 형변환 필수!\n",
    "num = input(\"정수를 입력하세요>>\")\n",
    "num\n"
   ]
  },
  {
   "cell_type": "code",
   "execution_count": 59,
   "id": "5e663dca",
   "metadata": {},
   "outputs": [
    {
     "name": "stdout",
     "output_type": "stream",
     "text": [
      "정수를 입력하세요>>10\n",
      "정수를 입력하세요>>5\n",
      "더하기 결과 : 15\n",
      "빼기 결과 : 5\n",
      "곱하기 결과 : 50\n",
      "나누기 결과 : 2.0\n"
     ]
    }
   ],
   "source": [
    "num1 =int(input(\"정수를 입력하세요>>\") )\n",
    "num2 =int(input(\"정수를 입력하세요>>\"))\n",
    "s = num1/num2\n",
    "\n",
    "print(\"더하기 결과 : %d\"%(num1 + num2))\n",
    "print(\"빼기 결과 : %d\"%(num1 - num2))\n",
    "print(\"곱하기 결과 : %d\"%(num1 * num2))\n",
    "print(f\"나누기 결과 : {s}\")"
   ]
  },
  {
   "cell_type": "code",
   "execution_count": 64,
   "id": "5381e01d",
   "metadata": {},
   "outputs": [
    {
     "name": "stdout",
     "output_type": "stream",
     "text": [
      "python 점수를 입력하세요 >> 80\n",
      "머신러닝 점수를 입력하세요 >> 60\n",
      "딥러닝 점수를 입력하세요 >> 80\n",
      "합계 : 220\n",
      "평균 : 73.33333333333333\n"
     ]
    }
   ],
   "source": [
    "python =int(input(\"python 점수를 입력하세요 >> \") )\n",
    "learning =int(input(\"머신러닝 점수를 입력하세요 >> \"))\n",
    "deep =int(input(\"딥러닝 점수를 입력하세요 >> \"))\n",
    "\n",
    "print(\"합계 : {}\".format(python + learning + deep))\n",
    "print(\"평균 : {}\".format((python + learning + deep)/3))\n",
    "\n",
    "# .format은 "
   ]
  },
  {
   "cell_type": "code",
   "execution_count": 76,
   "id": "ddfb7715",
   "metadata": {},
   "outputs": [
    {
     "name": "stdout",
     "output_type": "stream",
     "text": [
      "시간 입력 >> 1231\n",
      "0시간 20분 31초\n"
     ]
    }
   ],
   "source": [
    "# 1. 초로 된 시간을 입력받기\n",
    "time = int(input(\"시간 입력 >> \"))\n",
    "# 2. 시간 구하기\n",
    "hour = time // 3600\n",
    "# 3. 분 구하기\n",
    "minute = time % 3600 // 60\n",
    "# 4. 초구하기\n",
    "second = time % 3600 %60\n",
    "\n",
    "print(\"{}시간 {}분 {}초\".format(hour, minute, second))"
   ]
  },
  {
   "cell_type": "code",
   "execution_count": 77,
   "id": "07a9c384",
   "metadata": {},
   "outputs": [
    {
     "name": "stdout",
     "output_type": "stream",
     "text": [
      "==========\n"
     ]
    }
   ],
   "source": [
    "# 문자열 곱하기\n",
    "s = \"=\"\n",
    "print(s*10)   # s를 열번 연속해줄꺼다.\n",
    "\n"
   ]
  },
  {
   "cell_type": "code",
   "execution_count": 78,
   "id": "665f4aa0",
   "metadata": {},
   "outputs": [
    {
     "name": "stdout",
     "output_type": "stream",
     "text": [
      "안녕하세요안녕하세요\n"
     ]
    }
   ],
   "source": [
    "s = \"안녕하세요\"\n",
    "print(s*2)"
   ]
  },
  {
   "cell_type": "code",
   "execution_count": 79,
   "id": "7b7f457e",
   "metadata": {},
   "outputs": [
    {
     "name": "stdout",
     "output_type": "stream",
     "text": [
      "xxxxxxxxxx\n"
     ]
    }
   ],
   "source": [
    "s = \"x\"\n",
    "print(s*10)"
   ]
  },
  {
   "cell_type": "code",
   "execution_count": 83,
   "id": "f51b94cc",
   "metadata": {},
   "outputs": [
    {
     "name": "stdout",
     "output_type": "stream",
     "text": [
      "정수 입력 >> 2\n",
      "지수 입력 >> 3\n",
      "2의 3승은 8입니다\n",
      "2\n"
     ]
    }
   ],
   "source": [
    "# 지수 연산자(**)\n",
    "num = int(input('정수 입력 >> '))\n",
    "power = int(input('지수 입력 >> '))\n",
    "\n",
    "print(f\"{num}의 {power}승은 {num ** power}입니다\")\n"
   ]
  },
  {
   "cell_type": "code",
   "execution_count": 93,
   "id": "72abb78d",
   "metadata": {},
   "outputs": [
    {
     "name": "stdout",
     "output_type": "stream",
     "text": [
      "******** 연산하기 ********\n",
      "정수 입력 >> 10\n",
      "정수 입력 >> 30\n",
      "연산자 입력 >> +\n",
      "10 + 30 = 40\n"
     ]
    }
   ],
   "source": [
    "print(\"*\"*8,\"연산하기\",\"*\"*8)\n",
    "num1= int(input('정수 입력 >> '))\n",
    "num2= int(input('정수 입력 >> '))\n",
    "cal= input('연산자 입력 >> ')\n",
    "\n",
    "# print(\"%d %s %d = {}\".format(num1 + num2) %(num1,cal,num2))\n",
    "print(f\"{num1} {cal} {num2} = {num1 + num2}\")\n"
   ]
  },
  {
   "cell_type": "code",
   "execution_count": 95,
   "id": "99b90c89",
   "metadata": {},
   "outputs": [
    {
     "data": {
      "text/plain": [
       "30"
      ]
     },
     "execution_count": 95,
     "metadata": {},
     "output_type": "execute_result"
    }
   ],
   "source": [
    "num = 27\n",
    "num += 3   # num = num + 3 과 같다!\n",
    "num"
   ]
  },
  {
   "cell_type": "code",
   "execution_count": 97,
   "id": "12a762bb",
   "metadata": {},
   "outputs": [
    {
     "name": "stdout",
     "output_type": "stream",
     "text": [
      "a : 7\n",
      "b : 3\n"
     ]
    }
   ],
   "source": [
    "a = 3\n",
    "b = 7\n",
    "\n",
    "num = a\n",
    "a = b\n",
    "b = num  # java식 값 바꾸기!\n",
    "\n",
    "print(\"a : {}\".format(a))\n",
    "print(\"b : {}\".format(b))"
   ]
  },
  {
   "cell_type": "code",
   "execution_count": 98,
   "id": "b92694bc",
   "metadata": {},
   "outputs": [
    {
     "name": "stdout",
     "output_type": "stream",
     "text": [
      "a : 3\n",
      "b : 7\n"
     ]
    }
   ],
   "source": [
    "a, b = b,a # python식 값 바꾸기!\n",
    "\n",
    "print(\"a : {}\".format(a))\n",
    "print(\"b : {}\".format(b))"
   ]
  },
  {
   "cell_type": "markdown",
   "id": "8522bb87",
   "metadata": {},
   "source": [
    "### 2023_02_07 오후 수업"
   ]
  },
  {
   "attachments": {
    "image.png": {
     "image/png": "[encoded data removed]"
    }
   },
   "cell_type": "markdown",
   "id": "5f68e99c",
   "metadata": {},
   "source": [
    "### 숙제 \n",
    "![image.png](attachment:image.png)"
   ]
  },
  {
   "cell_type": "code",
   "execution_count": 12,
   "id": "8f0495c0",
   "metadata": {
    "scrolled": false
   },
   "outputs": [
    {
     "name": "stdout",
     "output_type": "stream",
     "text": [
      "a : 5,b : 10\n",
      "True\n",
      "False\n",
      "False\n",
      "True\n"
     ]
    }
   ],
   "source": [
    "# 라이브러리 import\n",
    "\n",
    "import random\n",
    "\n",
    "a = random.randint(1,10)\n",
    "b = random.randint(1,10)\n",
    "\n",
    "print(\"a : {},b : {}\".format(a,b))\n",
    "\n",
    "print(a < b)\n",
    "print(a > b)\n",
    "print(a == b)\n",
    "print(a != b)"
   ]
  },
  {
   "cell_type": "code",
   "execution_count": 25,
   "id": "44d5ed46",
   "metadata": {},
   "outputs": [
    {
     "data": {
      "text/plain": [
       "'불합격'"
      ]
     },
     "execution_count": 25,
     "metadata": {},
     "output_type": "execute_result"
    }
   ],
   "source": [
    "score = 79\n",
    "\"합격\"if score >= 80 else \"불합격\""
   ]
  },
  {
   "cell_type": "code",
   "execution_count": 29,
   "id": "e55c1091",
   "metadata": {},
   "outputs": [
    {
     "name": "stdout",
     "output_type": "stream",
     "text": [
      "정수 입력 >> 5\n",
      "정수 입력 >> 10\n",
      "b: 10\n"
     ]
    }
   ],
   "source": [
    "a = int(input(\"정수 입력 >> \"))\n",
    "b = int(input(\"정수 입력 >> \"))\n",
    "\n",
    "print(\"a :\", a) if a > b else print(\"b:\", b)\n"
   ]
  },
  {
   "cell_type": "code",
   "execution_count": 39,
   "id": "a4b1eb7a",
   "metadata": {
    "scrolled": true
   },
   "outputs": [
    {
     "name": "stdout",
     "output_type": "stream",
     "text": [
      "정수 입력 >> 10\n",
      "10는(은) 짝수 입니다.\n"
     ]
    }
   ],
   "source": [
    "a = int(input(\"정수 입력 >> \"))\n",
    "\n",
    "print (f\"{a}는(은) 짝수 입니다.\") if a % 2 == 0 else print (f\"{a}는(은) 홀수 입니다.\")"
   ]
  },
  {
   "cell_type": "code",
   "execution_count": 41,
   "id": "3deae991",
   "metadata": {},
   "outputs": [
    {
     "name": "stdout",
     "output_type": "stream",
     "text": [
      "첫 번째 정수 입력 >> 5\n",
      "두 번째 정수 입력 >> 10\n",
      "두 수의 차 : 5\n"
     ]
    }
   ],
   "source": [
    "a = int(input(\"첫 번째 정수 입력 >> \"))\n",
    "b = int(input(\"두 번째 정수 입력 >> \"))\n",
    "\n",
    "print(f\"두 수의 차 : {a - b}\")if a > b else print(f\"두 수의 차 : {b -a}\")"
   ]
  },
  {
   "cell_type": "code",
   "execution_count": null,
   "id": "7a3cf7ea",
   "metadata": {},
   "outputs": [],
   "source": []
  },
  {
   "cell_type": "code",
   "execution_count": null,
   "id": "e4d8f46c",
   "metadata": {},
   "outputs": [],
   "source": []
  },
  {
   "cell_type": "code",
   "execution_count": null,
   "id": "e8069d71",
   "metadata": {},
   "outputs": [],
   "source": []
  },
  {
   "cell_type": "code",
   "execution_count": null,
   "id": "bb5f530b",
   "metadata": {},
   "outputs": [],
   "source": []
  },
  {
   "cell_type": "code",
   "execution_count": null,
   "id": "f0641a7e",
   "metadata": {},
   "outputs": [],
   "source": []
  },
  {
   "cell_type": "code",
   "execution_count": null,
   "id": "3196094d",
   "metadata": {},
   "outputs": [],
   "source": []
  },
  {
   "cell_type": "code",
   "execution_count": null,
   "id": "2d03416f",
   "metadata": {},
   "outputs": [],
   "source": []
  },
  {
   "cell_type": "code",
   "execution_count": null,
   "id": "4d854878",
   "metadata": {},
   "outputs": [],
   "source": []
  },
  {
   "cell_type": "code",
   "execution_count": null,
   "id": "f9858f12",
   "metadata": {},
   "outputs": [],
   "source": []
  },
  {
   "cell_type": "code",
   "execution_count": null,
   "id": "8ce626e0",
   "metadata": {},
   "outputs": [],
   "source": []
  },
  {
   "cell_type": "code",
   "execution_count": null,
   "id": "b32901f0",
   "metadata": {},
   "outputs": [],
   "source": []
  },
  {
   "cell_type": "code",
   "execution_count": null,
   "id": "091f8d90",
   "metadata": {},
   "outputs": [],
   "source": []
  },
  {
   "cell_type": "code",
   "execution_count": null,
   "id": "ff1b508d",
   "metadata": {},
   "outputs": [],
   "source": []
  },
  {
   "cell_type": "code",
   "execution_count": null,
   "id": "dfa60578",
   "metadata": {},
   "outputs": [],
   "source": []
  },
  {
   "cell_type": "code",
   "execution_count": null,
   "id": "2243b91d",
   "metadata": {},
   "outputs": [],
   "source": []
  },
  {
   "cell_type": "code",
   "execution_count": null,
   "id": "55726bd4",
   "metadata": {},
   "outputs": [],
   "source": []
  },
  {
   "cell_type": "code",
   "execution_count": null,
   "id": "46dd3e64",
   "metadata": {},
   "outputs": [],
   "source": []
  }
 ],
 "metadata": {
  "kernelspec": {
   "display_name": "Python 3 (ipykernel)",
   "language": "python",
   "name": "python3"
  },
  "language_info": {
   "codemirror_mode": {
    "name": "ipython",
    "version": 3
   },
   "file_extension": ".py",
   "mimetype": "text/x-python",
   "name": "python",
   "nbconvert_exporter": "python",
   "pygments_lexer": "ipython3",
   "version": "3.9.13"
  }
 },
 "nbformat": 4,
 "nbformat_minor": 5
}
