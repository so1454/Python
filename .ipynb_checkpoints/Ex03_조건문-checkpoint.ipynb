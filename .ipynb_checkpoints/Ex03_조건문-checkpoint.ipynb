{
 "cells": [
  {
   "cell_type": "markdown",
   "id": "443263b5",
   "metadata": {},
   "source": [
    "### 조건문 시작"
   ]
  },
  {
   "cell_type": "code",
   "execution_count": 25,
   "id": "44d5ed46",
   "metadata": {},
   "outputs": [
    {
     "data": {
      "text/plain": [
       "'불합격'"
      ]
     },
     "execution_count": 25,
     "metadata": {},
     "output_type": "execute_result"
    }
   ],
   "source": [
    "score = 79\n",
    "\"합격\"if score >= 80 else \"불합격\""
   ]
  },
  {
   "cell_type": "code",
   "execution_count": 29,
   "id": "e55c1091",
   "metadata": {
    "scrolled": true
   },
   "outputs": [
    {
     "name": "stdout",
     "output_type": "stream",
     "text": [
      "정수 입력 >> 5\n",
      "정수 입력 >> 10\n",
      "b: 10\n"
     ]
    }
   ],
   "source": [
    "a = int(input(\"정수 입력 >> \"))\n",
    "b = int(input(\"정수 입력 >> \"))\n",
    "\n",
    "print(\"a :\", a) if a > b else print(\"b:\", b)\n"
   ]
  },
  {
   "cell_type": "code",
   "execution_count": 39,
   "id": "a4b1eb7a",
   "metadata": {
    "scrolled": true
   },
   "outputs": [
    {
     "name": "stdout",
     "output_type": "stream",
     "text": [
      "정수 입력 >> 10\n",
      "10는(은) 짝수 입니다.\n"
     ]
    }
   ],
   "source": [
    "a = int(input(\"정수 입력 >> \"))\n",
    "\n",
    "print (f\"{a}는(은) 짝수 입니다.\") if a % 2 == 0 else print (f\"{a}는(은) 홀수 입니다.\")"
   ]
  },
  {
   "cell_type": "code",
   "execution_count": 41,
   "id": "3deae991",
   "metadata": {
    "scrolled": true
   },
   "outputs": [
    {
     "name": "stdout",
     "output_type": "stream",
     "text": [
      "첫 번째 정수 입력 >> 5\n",
      "두 번째 정수 입력 >> 10\n",
      "두 수의 차 : 5\n"
     ]
    }
   ],
   "source": [
    "a = int(input(\"첫 번째 정수 입력 >> \"))\n",
    "b = int(input(\"두 번째 정수 입력 >> \"))\n",
    "\n",
    "print(f\"두 수의 차 : {a - b}\")if a > b else print(f\"두 수의 차 : {b -a}\")"
   ]
  },
  {
   "cell_type": "code",
   "execution_count": 1,
   "id": "603decb1",
   "metadata": {},
   "outputs": [
    {
     "name": "stdout",
     "output_type": "stream",
     "text": [
      "실행문장 실행\n",
      "if문 밖에 있는 실행문장\n"
     ]
    }
   ],
   "source": [
    "if True : \n",
    "    print(\"실행문장 실행\") # true만 실행을 하고\n",
    "print(\"if문 밖에 있는 실행문장\")"
   ]
  },
  {
   "cell_type": "code",
   "execution_count": 2,
   "id": "f9f28516",
   "metadata": {},
   "outputs": [
    {
     "name": "stdout",
     "output_type": "stream",
     "text": [
      "if문 밖에 있는 실행문장\n"
     ]
    }
   ],
   "source": [
    "if False : \n",
    "    print(\"실행문장 실행\") # 실행을 안하고 넘어감\n",
    "print(\"if문 밖에 있는 실행문장\")"
   ]
  },
  {
   "cell_type": "code",
   "execution_count": 7,
   "id": "ec7c407c",
   "metadata": {},
   "outputs": [
    {
     "name": "stdout",
     "output_type": "stream",
     "text": [
      "택시를 탄다\n"
     ]
    }
   ],
   "source": [
    "money = 11000\n",
    "\n",
    "if money >= 10000 :\n",
    "    print(\"택시를 탄다\")"
   ]
  },
  {
   "cell_type": "code",
   "execution_count": 11,
   "id": "e359519e",
   "metadata": {},
   "outputs": [
    {
     "name": "stdout",
     "output_type": "stream",
     "text": [
      "실행문장 1\n"
     ]
    }
   ],
   "source": [
    "if True : \n",
    "    print(\"실행문장 1\") # true일때 값출력\n",
    "else :\n",
    "    print(\"실행문장 2\")"
   ]
  },
  {
   "cell_type": "code",
   "execution_count": 10,
   "id": "fa49cc8f",
   "metadata": {},
   "outputs": [
    {
     "name": "stdout",
     "output_type": "stream",
     "text": [
      "실행문장 2\n"
     ]
    }
   ],
   "source": [
    "if False : \n",
    "    print(\"실행문장 1\")\n",
    "else :\n",
    "    print(\"실행문장 2\")  # false일때 값출력"
   ]
  },
  {
   "cell_type": "code",
   "execution_count": 13,
   "id": "50aca25a",
   "metadata": {},
   "outputs": [
    {
     "name": "stdout",
     "output_type": "stream",
     "text": [
      "버스를 탄다\n"
     ]
    }
   ],
   "source": [
    "money = 9000\n",
    "\n",
    "if money >= 10000 : \n",
    "    print(\"택시를 탄다\")\n",
    "else :\n",
    "    print(\"버스를 탄다\")\n"
   ]
  },
  {
   "cell_type": "code",
   "execution_count": 18,
   "id": "67fa14d3",
   "metadata": {},
   "outputs": [
    {
     "name": "stdout",
     "output_type": "stream",
     "text": [
      "정수 입력 >>35\n",
      "3과 5의 배수가 아닙니다\n"
     ]
    }
   ],
   "source": [
    "num = int(input(\"정수 입력 >>\"))\n",
    "\n",
    "if (num % 3 == 0) & (num % 5 ==0) : \n",
    "    print(\"3과 5의 배수입니다\")\n",
    "else :\n",
    "    print(\"3과 5의 배수가 아닙니다\")\n"
   ]
  },
  {
   "cell_type": "code",
   "execution_count": 11,
   "id": "e6a9bad5",
   "metadata": {},
   "outputs": [
    {
     "name": "stdout",
     "output_type": "stream",
     "text": [
      "마스크 개수 입력 >>8\n",
      "8개들이 포장지 개수 : 1\n",
      "5개들이 포장지 개수 : 0\n"
     ]
    }
   ],
   "source": [
    "countOfMask = int(input(\"마스크 개수 입력 >>\"))\n",
    "\n",
    "num = countOfMask // 8\n",
    "num2 = countOfMask % 8\n",
    "na = num2 // 5\n",
    "\n",
    "if num2 < 5 and num2 >0 :\n",
    "    na = 1\n",
    "    \n",
    "print(f\"8개들이 포장지 개수 : {num}\")\n",
    "print(f\"5개들이 포장지 개수 : {na}\")\n"
   ]
  },
  {
   "cell_type": "code",
   "execution_count": null,
   "id": "f5edf3a7",
   "metadata": {},
   "outputs": [],
   "source": [
    "#삼항 연산자\n",
    "countOfMask = int(input(\"마스크 개수 입력 >> \"))\n",
    "\n",
    "print(\"8개들이 포장지 개수\", countOfMask //8, \"개\")\n",
    "countOfMask = countOfMask%8\n",
    "\n",
    "print(f\"5개들이 포장지 개수\", countOfMask // 5 ,\"개\") if countOfMask%5 == 0 else print(\"5개들이 포장지 개수\", countOfMask // 5+1 ,\"개\")   "
   ]
  },
  {
   "cell_type": "code",
   "execution_count": 20,
   "id": "15f3530b",
   "metadata": {},
   "outputs": [
    {
     "name": "stdout",
     "output_type": "stream",
     "text": [
      "첫 번째 정수 입력 >> 8\n",
      "두 번째 정수 입력 >> 9\n",
      "두 번째 정수가 더 큽니다.\n"
     ]
    }
   ],
   "source": [
    "num1 = int(input(\"첫 번째 정수 입력 >> \"))\n",
    "num2 = int(input(\"두 번째 정수 입력 >> \"))\n",
    "\n",
    "if num1 > num2 :\n",
    "    print(\"첫 번째 정수가 더 큽니다.\")\n",
    "elif num1 < num2:\n",
    "    print(\"두 번째 정수가 더 큽니다.\")\n",
    "else :\n",
    "    print(\"두 정수가 똑같습니다.\")\n"
   ]
  },
  {
   "cell_type": "code",
   "execution_count": 37,
   "id": "45ae6c2a",
   "metadata": {},
   "outputs": [
    {
     "name": "stdout",
     "output_type": "stream",
     "text": [
      "점수 입력 >> 85\n",
      "85점 은 B학점 입니다.\n"
     ]
    }
   ],
   "source": [
    "score = int(input(\"점수 입력 >> \"))\n",
    "\n",
    "\n",
    "if 100 >= score and 90 <=score :\n",
    "    grade = \"A\"\n",
    "elif 90 > score and 80 <=score:\n",
    "    grade = \"B\"\n",
    "elif 80 > score and 70 <=score :\n",
    "    grade = \"C\"\n",
    "elif 70 > score and 60 <=score :\n",
    "    grade = \"D\"\n",
    "elif 60 > score :\n",
    "    grade = \"F\"\n",
    "\n",
    "if score > 100 : \n",
    "    print(f\"{score}점 잘못썼습니다\") \n",
    "else:\n",
    "    print(f\"{score}점은 {grade}학점 입니다.\")"
   ]
  },
  {
   "cell_type": "code",
   "execution_count": 53,
   "id": "e156c58d",
   "metadata": {},
   "outputs": [
    {
     "name": "stdout",
     "output_type": "stream",
     "text": [
      "나이 입력 >> 66\n",
      "요금은 375원 입니다\n"
     ]
    }
   ],
   "source": [
    "age = int(input(\"나이 입력 >> \"))\n",
    "money = 1500\n",
    "\n",
    "if age < 5 :\n",
    "   money =  money * 0.5\n",
    "elif age >= 5 and age < 20 :\n",
    "   money = money * 0.75\n",
    "elif age >= 65 :\n",
    "    money =money *0.25\n",
    "    \n",
    "print(f\"요금은 {int(money)}원 입니다\")"
   ]
  },
  {
   "cell_type": "code",
   "execution_count": 87,
   "id": "f10b8322",
   "metadata": {},
   "outputs": [
    {
     "name": "stdout",
     "output_type": "stream",
     "text": [
      "1. 콜라 600 \n",
      "2. 사이다 800  \n",
      "3. 물 1000\n",
      "insert coin >> 500\n",
      "메뉴 선택 >> 2\n",
      "돈을 더 넣어주세요\n",
      "1000원 0개 , 500원 0개 , 100원 0개\n"
     ]
    }
   ],
   "source": [
    "col = 600\n",
    "sa = 800\n",
    "water = 1000\n",
    "\n",
    "print (f\"1. 콜라 {col} \\n2. 사이다 {sa}  \\n3. 물 {water}\")\n",
    "\n",
    "coin = int(input(\"insert coin >> \"))\n",
    "menu = int(input(\"메뉴 선택 >> \"))\n",
    "\n",
    "cheon = 0\n",
    "obaek = 0\n",
    "baek = 0\n",
    "\n",
    "#남은 돈 구하기\n",
    "if coin < 600 :\n",
    "    print(\"돈을 더 넣어주세요\")\n",
    "else :\n",
    "    if menu == 1 :\n",
    "        coin1 = coin - col\n",
    "    elif menu == 2 :\n",
    "        coin1 = coin - sa\n",
    "    elif menu == 3 :\n",
    "        coin1 = coin - water\n",
    "    else : \n",
    "        print(\"잘못된 메뉴\")\n",
    "\n",
    "#남은 돈으로 각 화폐의 개수 구해주기        \n",
    "cheon = coin1 // 1000 # 천원 짜리 개수 세주기\n",
    "obaek = (coin1%1000)//500 # 500원짜리 갯수 세주기\n",
    "baek = ((coin1%1000)%500)//100 # 100원짜리 갯수 세주기\n",
    "   \n",
    "print(f\"1000원 {cheon}개 , 500원 {obaek}개 , 100원 {baek}개\")"
   ]
  },
  {
   "cell_type": "code",
   "execution_count": null,
   "id": "89abf144",
   "metadata": {},
   "outputs": [],
   "source": []
  },
  {
   "cell_type": "code",
   "execution_count": null,
   "id": "5089b433",
   "metadata": {},
   "outputs": [],
   "source": []
  },
  {
   "cell_type": "code",
   "execution_count": null,
   "id": "9c771014",
   "metadata": {},
   "outputs": [],
   "source": []
  },
  {
   "cell_type": "code",
   "execution_count": null,
   "id": "ccb82f52",
   "metadata": {},
   "outputs": [],
   "source": []
  },
  {
   "cell_type": "code",
   "execution_count": null,
   "id": "1c4ef805",
   "metadata": {},
   "outputs": [],
   "source": []
  },
  {
   "cell_type": "code",
   "execution_count": null,
   "id": "554f7bfa",
   "metadata": {},
   "outputs": [],
   "source": []
  },
  {
   "cell_type": "code",
   "execution_count": null,
   "id": "f935d73d",
   "metadata": {},
   "outputs": [],
   "source": []
  },
  {
   "cell_type": "code",
   "execution_count": null,
   "id": "b2457152",
   "metadata": {},
   "outputs": [],
   "source": []
  },
  {
   "cell_type": "code",
   "execution_count": null,
   "id": "89971c4f",
   "metadata": {},
   "outputs": [],
   "source": []
  },
  {
   "cell_type": "code",
   "execution_count": null,
   "id": "51ea901d",
   "metadata": {},
   "outputs": [],
   "source": []
  },
  {
   "cell_type": "code",
   "execution_count": null,
   "id": "6022570c",
   "metadata": {},
   "outputs": [],
   "source": []
  },
  {
   "cell_type": "code",
   "execution_count": null,
   "id": "05373738",
   "metadata": {},
   "outputs": [],
   "source": []
  },
  {
   "cell_type": "code",
   "execution_count": null,
   "id": "e12c842a",
   "metadata": {},
   "outputs": [],
   "source": []
  },
  {
   "cell_type": "code",
   "execution_count": null,
   "id": "42754e64",
   "metadata": {},
   "outputs": [],
   "source": []
  },
  {
   "cell_type": "code",
   "execution_count": null,
   "id": "5b542c0d",
   "metadata": {},
   "outputs": [],
   "source": []
  },
  {
   "cell_type": "code",
   "execution_count": null,
   "id": "f9c80051",
   "metadata": {},
   "outputs": [],
   "source": []
  },
  {
   "cell_type": "code",
   "execution_count": null,
   "id": "7589c265",
   "metadata": {},
   "outputs": [],
   "source": []
  },
  {
   "cell_type": "code",
   "execution_count": null,
   "id": "9f2d74de",
   "metadata": {},
   "outputs": [],
   "source": []
  },
  {
   "cell_type": "code",
   "execution_count": null,
   "id": "915106b0",
   "metadata": {},
   "outputs": [],
   "source": []
  }
 ],
 "metadata": {
  "kernelspec": {
   "display_name": "Python 3 (ipykernel)",
   "language": "python",
   "name": "python3"
  },
  "language_info": {
   "codemirror_mode": {
    "name": "ipython",
    "version": 3
   },
   "file_extension": ".py",
   "mimetype": "text/x-python",
   "name": "python",
   "nbconvert_exporter": "python",
   "pygments_lexer": "ipython3",
   "version": "3.9.13"
  }
 },
 "nbformat": 4,
 "nbformat_minor": 5
}
