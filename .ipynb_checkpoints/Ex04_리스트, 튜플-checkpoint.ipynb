{
 "cells": [
  {
   "cell_type": "code",
   "execution_count": 2,
   "id": "4a007526",
   "metadata": {},
   "outputs": [],
   "source": [
    "# 리스트 생성 방법\n",
    "a = [] # 비어있는 리스트를 만드는 방법\n",
    "\n",
    "# 자료가 들어있는 리스트\n",
    "b = [1,2,3]\n",
    "c = [\"my\",\"name\",\"is\",\"소현\"]\n",
    "\n",
    "# 근데 자바와 뭔가 다른데? 확인해봅시다!\n",
    "d = [1,2,'쉬는 시간'] # 자바와 다르게 다른 자료형도 들어간다.\n",
    "e = [1,2,['빨리','왔으면...']]"
   ]
  },
  {
   "cell_type": "code",
   "execution_count": 17,
   "id": "f7fbd661",
   "metadata": {},
   "outputs": [
    {
     "data": {
      "text/plain": [
       "3"
      ]
     },
     "execution_count": 17,
     "metadata": {},
     "output_type": "execute_result"
    }
   ],
   "source": [
    "list1 = [0,1,2,3,4,5]\n",
    "\n",
    "# 3이라는 값을 인덱싱을 이용해서 가져와보자\n",
    "list1[3]"
   ]
  },
  {
   "cell_type": "code",
   "execution_count": 18,
   "id": "49f53c35",
   "metadata": {},
   "outputs": [
    {
     "data": {
      "text/plain": [
       "5"
      ]
     },
     "execution_count": 18,
     "metadata": {},
     "output_type": "execute_result"
    }
   ],
   "source": [
    "# 5라는 값을 인덱싱을 이용해서 가져와보자\n",
    "list1[5]"
   ]
  },
  {
   "cell_type": "code",
   "execution_count": 21,
   "id": "0244dd6c",
   "metadata": {},
   "outputs": [
    {
     "name": "stdout",
     "output_type": "stream",
     "text": [
      "['a', 'b', 'c']\n"
     ]
    }
   ],
   "source": [
    "# 2차원 리스트에서의 인덱싱\n",
    "list2 = [1,2,3,['a','b','c']]\n",
    "\n",
    "# 리스트 인덱싱을 사용해서 temp에 a,b,c를 저장하고 출력해라\n",
    "temp = list2[3]\n",
    "print(temp)"
   ]
  },
  {
   "cell_type": "code",
   "execution_count": 29,
   "id": "c42b2ea6",
   "metadata": {},
   "outputs": [
    {
     "name": "stdout",
     "output_type": "stream",
     "text": [
      "b\n"
     ]
    },
    {
     "data": {
      "text/plain": [
       "'b'"
      ]
     },
     "execution_count": 29,
     "metadata": {},
     "output_type": "execute_result"
    }
   ],
   "source": [
    "# list2에서 문자 b만 뽑아서 출력하시오\n",
    "print(temp[1])\n",
    "\n",
    "list2[3][1]"
   ]
  },
  {
   "cell_type": "code",
   "execution_count": 35,
   "id": "75dac412",
   "metadata": {},
   "outputs": [
    {
     "data": {
      "text/plain": [
       "[1, 2, 3]"
      ]
     },
     "execution_count": 35,
     "metadata": {},
     "output_type": "execute_result"
    }
   ],
   "source": [
    "# 리스트 슬라이싱\n",
    "# list1에서 1~3까지 숫자를 가져와보자\n",
    "list1[1:4]"
   ]
  },
  {
   "cell_type": "code",
   "execution_count": 39,
   "id": "6774c8ae",
   "metadata": {},
   "outputs": [
    {
     "name": "stdout",
     "output_type": "stream",
     "text": [
      "[1, 2, 3, 4, 5, 6]\n",
      "5\n"
     ]
    }
   ],
   "source": [
    "# 리스트 더하기\n",
    "# 리스트간에 연산은 불가능하다! 다만 각각 내부의 값을 인덱싱해와서 연산은 할 수 있다.\n",
    "list3 = [1,2,3]\n",
    "list4 = [4,5,6]\n",
    "print(list3 + list4) #리스트간의 연산(문자열 이어붙히기)\n",
    "print(list3[0] + list4[0]) #인덱싱 후 연산(더함)"
   ]
  },
  {
   "cell_type": "code",
   "execution_count": 37,
   "id": "aff1038d",
   "metadata": {},
   "outputs": [
    {
     "data": {
      "text/plain": [
       "array([5, 7, 9])"
      ]
     },
     "execution_count": 37,
     "metadata": {},
     "output_type": "execute_result"
    }
   ],
   "source": [
    "# 넘파이 더하기(얘는 연산이 됨) - 리스트랑 헷갈리지 말기\n",
    "import numpy as np\n",
    "\n",
    "arr1= np.array([1,2,3])\n",
    "arr2 = np.array([4,5,6])\n",
    "\n",
    "arr1 +arr2"
   ]
  },
  {
   "cell_type": "markdown",
   "id": "456c69da",
   "metadata": {},
   "source": [
    "### 리스트 값 추가\n",
    "- append()\n",
    "- insert()"
   ]
  },
  {
   "cell_type": "code",
   "execution_count": 44,
   "id": "cf648c2f",
   "metadata": {},
   "outputs": [
    {
     "data": {
      "text/plain": [
       "[0, 1, 2, 3, 4, 5]"
      ]
     },
     "execution_count": 44,
     "metadata": {},
     "output_type": "execute_result"
    }
   ],
   "source": [
    "# append() : 리스트 내부의 요소값 맨 뒤에 데이터 값을 추가하는 방식\n",
    "list5 =[0, 1, 2, 3, 4]\n",
    "list5.append(5) # 값 5를 추가를 할꺼다. \n",
    "list5"
   ]
  },
  {
   "cell_type": "code",
   "execution_count": 49,
   "id": "4686b75b",
   "metadata": {},
   "outputs": [
    {
     "name": "stdout",
     "output_type": "stream",
     "text": [
      "['사과', '오렌지', '수박']\n"
     ]
    }
   ],
   "source": [
    "list_ = ['사과', '포도',['수박','멜론'],'복숭아','딸기','오렌지']\n",
    "\n",
    "a= list_[0]\n",
    "o = list_[-1]\n",
    "w = list_[2][0]\n",
    "\n",
    "choice_list = [a,o,w]\n",
    "print(choice_list)"
   ]
  },
  {
   "cell_type": "code",
   "execution_count": 59,
   "id": "0f48da65",
   "metadata": {},
   "outputs": [
    {
     "name": "stdout",
     "output_type": "stream",
     "text": [
      "['사과', '오렌지', '수박', ['사과', '오렌지', '수박']]\n"
     ]
    }
   ],
   "source": [
    "# append 사용하기\n",
    "list_2 = ['사과', '포도',['수박','멜론'],'복숭아','딸기','오렌지']\n",
    "\n",
    "a2= list_[0]\n",
    "o2= list_[-1]\n",
    "w2 = list_[2][0]\n",
    "\n",
    "choice_list2 = [] #리스트 빈공간을 먼저 만들어주고, 그 안에 값을 추가한다고 해야함\n",
    "                    # 이거 안해주면 name에러남!\n",
    "\n",
    "choice_list2.append(a2) # append는 하나의 속성만 추가할 수 있다.\n",
    "choice_list2.append(o2)\n",
    "choice_list2.append(w2)\n",
    "choice_list2.append([a2,o2,w2]) #리스트로 묶으면 하나의 속성이 되니까 들어감!\n",
    "\n",
    "print(choice_list2)"
   ]
  },
  {
   "cell_type": "code",
   "execution_count": 61,
   "id": "15dff02b",
   "metadata": {},
   "outputs": [
    {
     "data": {
      "text/plain": [
       "[0, 1, 2, 3, 5, 4]"
      ]
     },
     "execution_count": 61,
     "metadata": {},
     "output_type": "execute_result"
    }
   ],
   "source": [
    "# insert( 인덱스 ,값 ) 인덱스 위치에 값을 추가하는 방식!\n",
    "# insert는 지정한 인덱스 위치에 값을 추가하는 방식이다.\n",
    "# 기존에 그 위치에 있던 값은 뒤로 한칸 밀려난다(기존 인덱스 +1)\n",
    "\n",
    "list6 = [0,1,2,3,4]\n",
    "list6.insert(4 , 5) # 기존에 있던 친구를 밀고 추가됨!\n",
    "\n",
    "list6\n"
   ]
  },
  {
   "cell_type": "code",
   "execution_count": 64,
   "id": "c7f275d4",
   "metadata": {},
   "outputs": [
    {
     "data": {
      "text/plain": [
       "[['폭망', '엔플라잉'],\n",
       " ['취중고백', '멜로망스'],\n",
       " ['Hype boy', 'New Jeans'],\n",
       " ['퇴근하겠습니다', '장미여관'],\n",
       " ['팔레트', '김뮤지엄']]"
      ]
     },
     "execution_count": 64,
     "metadata": {},
     "output_type": "execute_result"
    }
   ],
   "source": [
    "# insert 실습\n",
    "music_list = [['폭망','엔플라잉'],\n",
    "              ['Hype boy','New Jeans'],\n",
    "              ['팔레트','김뮤지엄']]\n",
    "\n",
    "# 문제!\n",
    "# music_list 인덱스 1인 곳에 멜로망스 취중고백 추가\n",
    "music_list.insert(1,['취중고백','멜로망스'])\n",
    "\n",
    "# music_list 인덱스 3인 곳에 ['퇴근하겠습니다','장미여관'] 추가\n",
    "music_list.insert(3,['퇴근하겠습니다','장미여관'])\n",
    "\n",
    "music_list"
   ]
  },
  {
   "cell_type": "code",
   "execution_count": 66,
   "id": "e792315a",
   "metadata": {},
   "outputs": [
    {
     "name": "stdout",
     "output_type": "stream",
     "text": [
      "인덱스 >> 5\n",
      "노래 제목 >> HOT\n",
      "가수명 >> 세븐틴\n"
     ]
    },
    {
     "data": {
      "text/plain": [
       "[['폭망', '엔플라잉'],\n",
       " ['취중고백', '멜로망스'],\n",
       " ['Hype boy', 'New Jeans'],\n",
       " ['퇴근하겠습니다', '장미여관'],\n",
       " ['세븐틴', 'HOT'],\n",
       " ['HOT', '세븐틴'],\n",
       " ['팔레트', '김뮤지엄']]"
      ]
     },
     "execution_count": 66,
     "metadata": {},
     "output_type": "execute_result"
    }
   ],
   "source": [
    "# 정수 형태의 인덱스 값, 노래제목, 가수명을 입력문을 통해 입력받고\n",
    "# insert함수를 이용해서 music_list에 새로운 값을 추가하세요\n",
    "\n",
    "index_value = int(input(\"인덱스 >> \"))\n",
    "song = input(\"노래 제목 >> \")\n",
    "singer = input(\"가수명 >> \")\n",
    "\n",
    "music_list.insert(index_value, [song,singer])\n",
    "\n",
    "music_list"
   ]
  },
  {
   "cell_type": "code",
   "execution_count": 86,
   "id": "44f3e2b0",
   "metadata": {},
   "outputs": [
    {
     "data": {
      "text/plain": [
       "[0, 1, 2, 3, 4]"
      ]
     },
     "execution_count": 86,
     "metadata": {},
     "output_type": "execute_result"
    }
   ],
   "source": [
    "list7 = [0, 1, 2, 3, 4]\n",
    "list7"
   ]
  },
  {
   "cell_type": "code",
   "execution_count": 87,
   "id": "697d46cc",
   "metadata": {},
   "outputs": [
    {
     "name": "stdout",
     "output_type": "stream",
     "text": [
      "수정 전 : 4\n",
      "수정 후 : 2\n"
     ]
    }
   ],
   "source": [
    "print(f\"수정 전 : {list7[4]}\")\n",
    "list7[4] = 2\n",
    "print(f\"수정 후 : {list7[4]}\")"
   ]
  },
  {
   "cell_type": "code",
   "execution_count": 88,
   "id": "948764b7",
   "metadata": {},
   "outputs": [
    {
     "data": {
      "text/plain": [
       "[1, 2, 3]"
      ]
     },
     "execution_count": 88,
     "metadata": {},
     "output_type": "execute_result"
    }
   ],
   "source": [
    "list7[1:4]"
   ]
  },
  {
   "cell_type": "code",
   "execution_count": 89,
   "id": "dc641362",
   "metadata": {},
   "outputs": [
    {
     "name": "stdout",
     "output_type": "stream",
     "text": [
      "수정 전 : [1, 2, 3]\n",
      "[0, 1, 2, 3, 2]\n",
      "수정 후 : [7, 2]\n",
      "[0, 7, 2]\n"
     ]
    }
   ],
   "source": [
    "print(f\"수정 전 : {list7[1:4]}\")\n",
    "print(list7)\n",
    "\n",
    "list7[1:4] = [7]  # 슬라이싱을 이용한 방법\n",
    "print(f\"수정 후 : {list7[1:4]}\")\n",
    "print(list7)"
   ]
  },
  {
   "cell_type": "code",
   "execution_count": 49,
   "id": "fcd215a9",
   "metadata": {},
   "outputs": [
    {
     "data": {
      "text/plain": [
       "[1, 2, 3, 4, 7]"
      ]
     },
     "execution_count": 49,
     "metadata": {},
     "output_type": "execute_result"
    }
   ],
   "source": [
    "# 실습\n",
    "\n",
    "array = [1,2,3,4,5]\n",
    "\n",
    "array[-1] = 7\n",
    "array\n"
   ]
  },
  {
   "cell_type": "code",
   "execution_count": 50,
   "id": "7deac836",
   "metadata": {},
   "outputs": [
    {
     "data": {
      "text/plain": [
       "[1, ['a', 'b', 'c'], 3, 4, 7]"
      ]
     },
     "execution_count": 50,
     "metadata": {},
     "output_type": "execute_result"
    }
   ],
   "source": [
    "array[1] = ['a','b','c']\n",
    "array"
   ]
  },
  {
   "cell_type": "code",
   "execution_count": 53,
   "id": "0137b0b1",
   "metadata": {},
   "outputs": [
    {
     "name": "stdout",
     "output_type": "stream",
     "text": [
      "[1, ['a', 'b', 'c'], 3, 'd', 'e', 'f', 'g']\n"
     ]
    }
   ],
   "source": [
    "array[3 :] = ['d','e']\n",
    "array[5 :] = ['f','g']\n",
    "array\n",
    "print(array)"
   ]
  },
  {
   "cell_type": "code",
   "execution_count": 48,
   "id": "8eab4d9e",
   "metadata": {},
   "outputs": [
    {
     "name": "stdout",
     "output_type": "stream",
     "text": [
      "[['h', 'i', 'j'], ['a', 'b', 'c'], 3, ('d', 'e'), ('f', 'g')]\n"
     ]
    }
   ],
   "source": [
    "array[0] = ['h','i','j']\n",
    "array\n",
    "print(array)"
   ]
  },
  {
   "cell_type": "markdown",
   "id": "aa82f37a",
   "metadata": {},
   "source": [
    "### 리스트 값 삭제\n",
    "- del\n",
    "- remove"
   ]
  },
  {
   "cell_type": "code",
   "execution_count": 54,
   "id": "83e21d2a",
   "metadata": {},
   "outputs": [
    {
     "data": {
      "text/plain": [
       "[0, 1, 2, 3]"
      ]
     },
     "execution_count": 54,
     "metadata": {},
     "output_type": "execute_result"
    }
   ],
   "source": [
    "list8 = [0,1,2,3,4]  \n",
    "del list8[4] # 4에 있는거 삭제할꺼에요\n",
    "list8"
   ]
  },
  {
   "cell_type": "code",
   "execution_count": 55,
   "id": "6aa589e5",
   "metadata": {},
   "outputs": [
    {
     "data": {
      "text/plain": [
       "[0, 1, 2, 3]"
      ]
     },
     "execution_count": 55,
     "metadata": {},
     "output_type": "execute_result"
    }
   ],
   "source": [
    "list8"
   ]
  },
  {
   "cell_type": "code",
   "execution_count": 57,
   "id": "90d62bf6",
   "metadata": {},
   "outputs": [
    {
     "data": {
      "text/plain": [
       "[0, 3]"
      ]
     },
     "execution_count": 57,
     "metadata": {},
     "output_type": "execute_result"
    }
   ],
   "source": [
    "del list8[1:3]\n",
    "list8"
   ]
  },
  {
   "cell_type": "code",
   "execution_count": 59,
   "id": "293f50c8",
   "metadata": {},
   "outputs": [
    {
     "data": {
      "text/plain": [
       "['a', 'b', 'c', 'e']"
      ]
     },
     "execution_count": 59,
     "metadata": {},
     "output_type": "execute_result"
    }
   ],
   "source": [
    "# remove(삭제해주고자 하는 값) : 실제 리스트 내부의 값을 이용해서 삭제\n",
    "list9 = ['a','b','c','d','e']\n",
    "list9.remove('d')\n",
    "list9"
   ]
  },
  {
   "cell_type": "code",
   "execution_count": null,
   "id": "74e4fca1",
   "metadata": {},
   "outputs": [],
   "source": [
    "list9.remove('d' ) # 이 오류를 자주볼것임 d가 삭제되었는데 또 삭제하려고하니까 나는 오류"
   ]
  },
  {
   "cell_type": "markdown",
   "id": "dd4686b9",
   "metadata": {},
   "source": [
    "### 리스트 정렬"
   ]
  },
  {
   "cell_type": "code",
   "execution_count": 60,
   "id": "5d9266b6",
   "metadata": {},
   "outputs": [
    {
     "data": {
      "text/plain": [
       "[9, 77, 13, 51, 48, 100, 3]"
      ]
     },
     "execution_count": 60,
     "metadata": {},
     "output_type": "execute_result"
    }
   ],
   "source": [
    "list10 = [9, 77, 13, 51, 48, 100, 3]\n",
    "list10"
   ]
  },
  {
   "cell_type": "code",
   "execution_count": 61,
   "id": "3b329e97",
   "metadata": {},
   "outputs": [
    {
     "data": {
      "text/plain": [
       "[3, 9, 13, 48, 51, 77, 100]"
      ]
     },
     "execution_count": 61,
     "metadata": {},
     "output_type": "execute_result"
    }
   ],
   "source": [
    "#sort() 함수 : 값을 정렬해주는 기능 (오름차순)\n",
    "list10.sort() \n",
    "list10"
   ]
  },
  {
   "cell_type": "code",
   "execution_count": 65,
   "id": "f5fadda0",
   "metadata": {},
   "outputs": [
    {
     "data": {
      "text/plain": [
       "[3, 100, 48, 51, 13, 77, 9]"
      ]
     },
     "execution_count": 65,
     "metadata": {},
     "output_type": "execute_result"
    }
   ],
   "source": [
    "# reverse() : 리스트에 있는 값을 역순으로 뒤집는 기능\n",
    "list11 = [9, 77, 13, 51, 48, 100, 3]\n",
    "list11.reverse()\n",
    "list11\n"
   ]
  },
  {
   "cell_type": "code",
   "execution_count": 67,
   "id": "208ec8ce",
   "metadata": {},
   "outputs": [
    {
     "data": {
      "text/plain": [
       "[100, 77, 51, 48, 13, 9, 3]"
      ]
     },
     "execution_count": 67,
     "metadata": {},
     "output_type": "execute_result"
    }
   ],
   "source": [
    "# sort와 reverse로 내림차순 해보기!\n",
    "list12 =  [9, 77, 13, 51, 48, 100, 3]\n",
    "list12.sort()\n",
    "list12.reverse()\n",
    "\n",
    "list12"
   ]
  },
  {
   "cell_type": "code",
   "execution_count": 68,
   "id": "7a705c71",
   "metadata": {},
   "outputs": [
    {
     "data": {
      "text/plain": [
       "[100, 77, 51, 48, 13, 9, 3]"
      ]
     },
     "execution_count": 68,
     "metadata": {},
     "output_type": "execute_result"
    }
   ],
   "source": [
    "# 좀 더 쉽게 내림차순 하는 방법\n",
    "list13 =  [9, 77, 13, 51, 48, 100, 3]\n",
    "list13.sort(reverse = True) \n",
    "        #원래 sort의 reverse가 False니까 True로 바꿔주면 오름차순의 반대인 내림차순!이 나오겠지\n",
    "list13"
   ]
  },
  {
   "cell_type": "code",
   "execution_count": 70,
   "id": "622eabf3",
   "metadata": {},
   "outputs": [],
   "source": [
    "# 리스트 값 위치 출력 및 제거\n",
    "list14 = ['a','b','c','d','e']\n",
    "    "
   ]
  },
  {
   "cell_type": "code",
   "execution_count": 71,
   "id": "ddf10ea7",
   "metadata": {},
   "outputs": [
    {
     "data": {
      "text/plain": [
       "1"
      ]
     },
     "execution_count": 71,
     "metadata": {},
     "output_type": "execute_result"
    }
   ],
   "source": [
    "# index() : 찾고자 하는 값에 위치(index값)를 출력\n",
    "list14.index('b')\n"
   ]
  },
  {
   "cell_type": "code",
   "execution_count": 72,
   "id": "cc0c744d",
   "metadata": {},
   "outputs": [
    {
     "data": {
      "text/plain": [
       "'e'"
      ]
     },
     "execution_count": 72,
     "metadata": {},
     "output_type": "execute_result"
    }
   ],
   "source": [
    "# pop() : 마지막 값을 출력한 후 리스트에서 제거! --> 정보처리기사에 나옴\n",
    "list15 = ['a','b','c','d','e']\n",
    "list15.pop()"
   ]
  },
  {
   "cell_type": "code",
   "execution_count": 73,
   "id": "f569e14b",
   "metadata": {},
   "outputs": [
    {
     "data": {
      "text/plain": [
       "['a', 'b', 'c', 'd']"
      ]
     },
     "execution_count": 73,
     "metadata": {},
     "output_type": "execute_result"
    }
   ],
   "source": [
    "list15   # 확인해보니 e가 사라짐"
   ]
  },
  {
   "cell_type": "code",
   "execution_count": 74,
   "id": "534b04dc",
   "metadata": {},
   "outputs": [
    {
     "data": {
      "text/plain": [
       "4"
      ]
     },
     "execution_count": 74,
     "metadata": {},
     "output_type": "execute_result"
    }
   ],
   "source": [
    "# len(리스트) -> 리스트의 값 개수를 출력해주는 함수 (반복문에서 많이 사용!)\n",
    "len(list15)"
   ]
  },
  {
   "cell_type": "code",
   "execution_count": 84,
   "id": "768bf54e",
   "metadata": {},
   "outputs": [
    {
     "name": "stdout",
     "output_type": "stream",
     "text": [
      "검색할 문자를 입력하세요 : is\n",
      "is는 1번 들어있네유!\n"
     ]
    }
   ],
   "source": [
    "s = \"Hi, My name is SeongWoo\"\n",
    "\n",
    "a = input(\"검색할 문자를 입력하세요 : \")\n",
    "\n",
    "b = s.count(a)\n",
    "\n",
    "if a in s :   # s 안에 a에서 받은 문자가 들어있는지 확인도해줌(따로 안나눠도)\n",
    "    print(f\"{a}는 {b}번 들어있네유!\")\n",
    "elif a not in s : \n",
    "    print(f\"{a}는 들어있지 않네유..\")"
   ]
  },
  {
   "cell_type": "code",
   "execution_count": null,
   "id": "0f01c8a1",
   "metadata": {},
   "outputs": [],
   "source": []
  },
  {
   "cell_type": "code",
   "execution_count": null,
   "id": "27d48d74",
   "metadata": {},
   "outputs": [],
   "source": []
  },
  {
   "cell_type": "code",
   "execution_count": null,
   "id": "262ee8da",
   "metadata": {},
   "outputs": [],
   "source": []
  },
  {
   "cell_type": "code",
   "execution_count": null,
   "id": "a45429ff",
   "metadata": {},
   "outputs": [],
   "source": []
  },
  {
   "cell_type": "code",
   "execution_count": null,
   "id": "e37a10a6",
   "metadata": {},
   "outputs": [],
   "source": []
  },
  {
   "cell_type": "code",
   "execution_count": null,
   "id": "00bb5432",
   "metadata": {},
   "outputs": [],
   "source": []
  },
  {
   "cell_type": "code",
   "execution_count": null,
   "id": "0f85d293",
   "metadata": {},
   "outputs": [],
   "source": []
  },
  {
   "cell_type": "code",
   "execution_count": null,
   "id": "54f1c36f",
   "metadata": {},
   "outputs": [],
   "source": []
  },
  {
   "cell_type": "code",
   "execution_count": null,
   "id": "b55bfc77",
   "metadata": {},
   "outputs": [],
   "source": []
  },
  {
   "cell_type": "code",
   "execution_count": null,
   "id": "1a19c6c2",
   "metadata": {},
   "outputs": [],
   "source": []
  },
  {
   "cell_type": "code",
   "execution_count": null,
   "id": "ee7adcb0",
   "metadata": {},
   "outputs": [],
   "source": []
  },
  {
   "cell_type": "code",
   "execution_count": null,
   "id": "d3c5e508",
   "metadata": {},
   "outputs": [],
   "source": []
  }
 ],
 "metadata": {
  "kernelspec": {
   "display_name": "Python 3 (ipykernel)",
   "language": "python",
   "name": "python3"
  },
  "language_info": {
   "codemirror_mode": {
    "name": "ipython",
    "version": 3
   },
   "file_extension": ".py",
   "mimetype": "text/x-python",
   "name": "python",
   "nbconvert_exporter": "python",
   "pygments_lexer": "ipython3",
   "version": "3.9.13"
  }
 },
 "nbformat": 4,
 "nbformat_minor": 5
}
