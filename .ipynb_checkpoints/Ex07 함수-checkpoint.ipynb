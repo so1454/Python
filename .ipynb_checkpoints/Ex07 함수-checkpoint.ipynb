{
 "cells": [
  {
   "cell_type": "markdown",
   "id": "279478c5",
   "metadata": {},
   "source": [
    "##  함수"
   ]
  },
  {
   "cell_type": "code",
   "execution_count": null,
   "id": "bb17cd1b",
   "metadata": {},
   "outputs": [],
   "source": [
    "def 함수명(매개변수) :\n",
    "    실행문장\n",
    "    return 반환변수"
   ]
  },
  {
   "cell_type": "code",
   "execution_count": 3,
   "id": "cabaabfb",
   "metadata": {},
   "outputs": [
    {
     "data": {
      "text/plain": [
       "3"
      ]
     },
     "execution_count": 3,
     "metadata": {},
     "output_type": "execute_result"
    }
   ],
   "source": [
    "def number_sum(num1, num2) : \n",
    "    result = num1 + num2\n",
    "    return result\n",
    "\n",
    "number_sum(1,2)"
   ]
  },
  {
   "cell_type": "code",
   "execution_count": 2,
   "id": "9cc7ad07",
   "metadata": {},
   "outputs": [],
   "source": [
    "def number_minus(num1,num2) :\n",
    "    result = num1 - num2\n",
    "    return result"
   ]
  },
  {
   "cell_type": "code",
   "execution_count": 3,
   "id": "1ffe9948",
   "metadata": {},
   "outputs": [
    {
     "name": "stdout",
     "output_type": "stream",
     "text": [
      "첫번째 정수 입력 >> 10\n",
      "두번째 정수 입력 >> 5\n"
     ]
    },
    {
     "data": {
      "text/plain": [
       "5"
      ]
     },
     "execution_count": 3,
     "metadata": {},
     "output_type": "execute_result"
    }
   ],
   "source": [
    "num1 = int(input(\"첫번째 정수 입력 >> \"))\n",
    "num2 = int(input(\"두번째 정수 입력 >> \"))\n",
    "result = number_minus(num1,num2)\n",
    "result"
   ]
  },
  {
   "cell_type": "markdown",
   "id": "e24ccf98",
   "metadata": {},
   "source": [
    "## 0213"
   ]
  },
  {
   "cell_type": "code",
   "execution_count": 6,
   "id": "8868eb9e",
   "metadata": {},
   "outputs": [],
   "source": [
    "# 독스트링 (shift + tab 하면 이게 나옴!) \n",
    "#             : 함수가 어떤 기능을 하는지 설명을 적을 수 있는 기능\n",
    "\n",
    "def number_minus(num1,num2) :\n",
    "    \"\"\"두 수의 차를 구하는 함수\"\"\"\n",
    "    return(num1 - num2)"
   ]
  },
  {
   "cell_type": "code",
   "execution_count": 13,
   "id": "01e202bb",
   "metadata": {},
   "outputs": [],
   "source": [
    "def s_replace(text) :\n",
    "    rs = text.replace('ㅋ',\"\")\n",
    "    return rs"
   ]
  },
  {
   "cell_type": "code",
   "execution_count": 14,
   "id": "289fdb41",
   "metadata": {},
   "outputs": [
    {
     "name": "stdout",
     "output_type": "stream",
     "text": [
      "문자열 입력 >> ㅋ을 지워주세요ㅋㅋㅋㅋㅋ\n"
     ]
    },
    {
     "data": {
      "text/plain": [
       "'을 지워주세요'"
      ]
     },
     "execution_count": 14,
     "metadata": {},
     "output_type": "execute_result"
    }
   ],
   "source": [
    "s = input(\"문자열 입력 >> \")\n",
    "result = s_replace(s)\n",
    "\n",
    "result"
   ]
  },
  {
   "cell_type": "markdown",
   "id": "c92b9dd3",
   "metadata": {},
   "source": [
    "그 문자열 함수 정리해두신거 따로 있대 그거 문자열 피피티 마지막에 있으니까 참고하래"
   ]
  },
  {
   "cell_type": "code",
   "execution_count": 15,
   "id": "03012d28",
   "metadata": {},
   "outputs": [],
   "source": [
    "# 가변 매개변수\n",
    "# 함수 호출시 몇개의 인수가 전달될지 알 수 가 없다면 사용자가 직접 매개변수의 개수를\n",
    "# 정할 수 있도록 선언해주는 함수입다.\n",
    "def add(*args) :\n",
    "    print(args)"
   ]
  },
  {
   "cell_type": "code",
   "execution_count": 16,
   "id": "2634ed08",
   "metadata": {},
   "outputs": [
    {
     "name": "stdout",
     "output_type": "stream",
     "text": [
      "(1, 2, 3, 4, 5, 6, 7, 8, 9)\n"
     ]
    }
   ],
   "source": [
    "add(1,2,3,4,5,6,7,8,9) # 이렇게 나중에 매개변수를 넣어줄 수 있음"
   ]
  },
  {
   "cell_type": "code",
   "execution_count": 31,
   "id": "817a244c",
   "metadata": {},
   "outputs": [],
   "source": [
    "def add(*args) :\n",
    "    return sum(args)"
   ]
  },
  {
   "cell_type": "code",
   "execution_count": 33,
   "id": "d848e39c",
   "metadata": {},
   "outputs": [
    {
     "data": {
      "text/plain": [
       "24"
      ]
     },
     "execution_count": 33,
     "metadata": {},
     "output_type": "execute_result"
    }
   ],
   "source": [
    "add(1,2,3,5,6,7)"
   ]
  },
  {
   "cell_type": "code",
   "execution_count": 34,
   "id": "135246df",
   "metadata": {},
   "outputs": [],
   "source": [
    "def power_of_N(num,power = 2) :  # power에 기초값 2를 넣어줌\n",
    "    return num **power  # 몇의 몇승인지 출력하겠다"
   ]
  },
  {
   "cell_type": "code",
   "execution_count": 35,
   "id": "3fcc46f7",
   "metadata": {},
   "outputs": [
    {
     "data": {
      "text/plain": [
       "9"
      ]
     },
     "execution_count": 35,
     "metadata": {},
     "output_type": "execute_result"
    }
   ],
   "source": [
    "power_of_N(3) #여기서 3은 num으로 들어갔다.(초기값 지수2승이니까 3의 2승!)"
   ]
  },
  {
   "cell_type": "code",
   "execution_count": null,
   "id": "a243483d",
   "metadata": {},
   "outputs": [],
   "source": []
  },
  {
   "cell_type": "code",
   "execution_count": null,
   "id": "2c772292",
   "metadata": {},
   "outputs": [],
   "source": []
  }
 ],
 "metadata": {
  "kernelspec": {
   "display_name": "Python 3 (ipykernel)",
   "language": "python",
   "name": "python3"
  },
  "language_info": {
   "codemirror_mode": {
    "name": "ipython",
    "version": 3
   },
   "file_extension": ".py",
   "mimetype": "text/x-python",
   "name": "python",
   "nbconvert_exporter": "python",
   "pygments_lexer": "ipython3",
   "version": "3.9.13"
  }
 },
 "nbformat": 4,
 "nbformat_minor": 5
}
